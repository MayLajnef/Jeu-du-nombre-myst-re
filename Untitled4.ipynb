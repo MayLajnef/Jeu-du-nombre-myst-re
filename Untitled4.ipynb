{
 "cells": [
  {
   "cell_type": "code",
   "execution_count": null,
   "id": "e92d1d25",
   "metadata": {},
   "outputs": [
    {
     "name": "stdout",
     "output_type": "stream",
     "text": [
      "Le jeu du nombre mystère\n",
      "Il te reste 5 essais.\n",
      "Devine le nombre : gttv\n",
      "Veuillez entrer un nombre valide.\n"
     ]
    }
   ],
   "source": [
    "print(\"Le jeu du nombre mystère\")\n",
    "import random\n",
    "mystery_number = random.randrange(100)\n",
    "number_of_tries = 5\n",
    "while number_of_tries > 0:\n",
    "    user_input = input(f\"Il te reste {number_of_tries} essais.\\nDevine le nombre : \")\n",
    "    if not (user_input.isdigit()):\n",
    "        print(\"Veuillez entrer un nombre valide.\")\n",
    "    elif int(user_input) < mystery_number:\n",
    "        print(\"Le nombre \", user_input, \"est plus petit que le nombre mystère.\")\n",
    "    elif int(user_input) > mystery_number:\n",
    "        print(\"Le nombre \", user_input, \"est plus grand que le nombre mystère.\")\n",
    "    else:\n",
    "        print(f\"Tu as trouvé le nombre en {number_of_tries} essais. \\n Fin du jeu.\")\n",
    "        break\n",
    "    number_of_tries -= 1\n",
    "\n",
    "else:\n",
    "    print(\"Dommage, le nombre mystère était \", mystery_number, \". \\n Fin du jeu.\")\n",
    "    \n"
   ]
  },
  {
   "cell_type": "code",
   "execution_count": null,
   "id": "8da19566",
   "metadata": {},
   "outputs": [],
   "source": []
  }
 ],
 "metadata": {
  "kernelspec": {
   "display_name": "Python 3 (ipykernel)",
   "language": "python",
   "name": "python3"
  },
  "language_info": {
   "codemirror_mode": {
    "name": "ipython",
    "version": 3
   },
   "file_extension": ".py",
   "mimetype": "text/x-python",
   "name": "python",
   "nbconvert_exporter": "python",
   "pygments_lexer": "ipython3",
   "version": "3.9.13"
  }
 },
 "nbformat": 4,
 "nbformat_minor": 5
}
